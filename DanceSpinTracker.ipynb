{
  "nbformat": 4,
  "nbformat_minor": 0,
  "metadata": {
    "colab": {
      "provenance": [],
      "collapsed_sections": [
        "eZ86MHeFoeTX"
      ],
      "authorship_tag": "ABX9TyNyCqXuNsn66uaaJ2N4WFr0",
      "include_colab_link": true
    },
    "kernelspec": {
      "name": "python3",
      "display_name": "Python 3"
    },
    "language_info": {
      "name": "python"
    }
  },
  "cells": [
    {
      "cell_type": "markdown",
      "metadata": {
        "id": "view-in-github",
        "colab_type": "text"
      },
      "source": [
        "<a href=\"https://colab.research.google.com/github/bayu-wilson/MoveNet_project/blob/main/DanceSpinTracker.ipynb\" target=\"_parent\"><img src=\"https://colab.research.google.com/assets/colab-badge.svg\" alt=\"Open In Colab\"/></a>"
      ]
    },
    {
      "cell_type": "markdown",
      "source": [
        "# Dance Spin Tracker\n",
        "\n",
        "Bayu Wilson"
      ],
      "metadata": {
        "id": "A_ur8trtNdOQ"
      }
    },
    {
      "cell_type": "markdown",
      "source": [
        "### Motivation\n",
        "The objective of this computer vision project is to track the number of times a single dancer spins/turns in each direction (over right of left shoulder). This project could be expanded on and applied to live fitness and movement applications. For example, a professional dancer may want to keep track of movements like spinning to quantify their training routine. This can help to ensure a dancer sufficiently practices to improve but does not over-train, risking injury. Tracking number of spins in both directions is important as well because it can help prevent muscular imbalances developed during biased training. It can also monitor creativity biases during improvised dancing or performances (i.e. a choreographer spinning in one direction significantly more than the other). Lastly, it could be used in an ethnomusicological context. On page 55, [table 1.1](https://drive.google.com/file/d/13SPHCf94HYKWoEIaKNVrBEtmyad39JaZ/view?usp=drive_link) in the book \"Spinning Mambo into Salsa\" by Juliet McMains, one of the major aesthetic differences between Palladium-Era Mambo of the 1950's and the Modern New York-Style Salsa/Mambo today is the number of spins/turns done by the dancers. Palladium-Era dancers typically would do few simple turns and idiosyncratic solo moves while modern dancers today incorporate multiple, complex turns. Computer vision is a tool worth considering in the context of quantitative dance ethnography.\n",
        "\n",
        "\n",
        "### Methodology and Tools\n",
        "In this project I am taking advantage of a pre-trained pose detection model made by Google Research, called **[MoveNet](https://t.co/QpfnVL0YYI?amp=1)**. Copied from [TF Hub](https://www.tensorflow.org/hub/tutorials/movenet), it is an \"*ultra fast and accurate model that detects 17 keypoints of a body. The model is offered on [TF Hub](https://tfhub.dev/s?q=movenet) with two variants, known as Lightning and Thunder. Lightning is intended for latency-critical applications, while Thunder is intended for applications that require high accuracy. Both models run faster than real time (30+ FPS) on most modern desktops, laptops, and phones, which proves crucial for live fitness, health, and wellness applications.*\". I found this model on TensorFlow hub, which is a useful library containing ample resusable machine learning components like this. This helps to build ML applications without starting from scratch.\n",
        "\n",
        "#### How MoveNet works\n",
        "The prediction scheme loosely follows [CenterNet](https://arxiv.org/abs/1904.07850) which models an object as a single point, the center point of its bounding box. This approach is faster than bounding box based detectors. I recall learning about bounding box based detectors in the Deep Learning Specialization I took from Andrew Ng. In these types of algorithms, an object detecting method is first used to tightly encompass the object this may use sliding windows or a complex arrangement of overlapping bounding anchor boxes similar to the YOLO algorithm. Note: Anchor boxes are used to help grid cells detect multiple overlapping objects, Non-max suppression is a way to make sure algorithms detects each object only once, and IoU is intersection over unions which is a measure of overlap.\n",
        "\n",
        "The CenterNet/MoveNet is simpler and more efficient alternative. It ends up being a standard keypoint estimation problem. Keypoints are just notable features/landmarks in an image/video such as body/face parts. The images are fed into a fully convolutional network (FCN) (this just means CNN's with no fully connected dense layers at the end). So the output could be a spatial map instead of a single vector of class scores. In this case, the FCN is used to generate a heatmap where the object centers are the peaks. Then the main idea is that this enables a rich feature map to be output where keypoints are able to be identified easily.\n",
        "\n",
        "The model was trained using the COCO standar benchmark dataset as well as an internal Google dataset called Active. It was important to augment the COCO dataset with more challenging poses and motion blur which is common in fitness and dance applications.\n",
        "\n",
        "One of the most significant speed ups was to use lower resolution inputs to the models. To make up for the loss in resolution, a more intelligent cropping method is used which allowed the model to devote more of its attention and resources to the main subject, and not the background.\n",
        "\n",
        "\n",
        "### Defining a turn\n",
        "Though this project can be easily generalized to other genres of dance, I will set the contraints based off of salsa dancing. I will define salsa music to have a BPM ranging from 140 and 250 (2.3 and 4.2 beats per second respectively). A spin ber a beat in a 250 BPM song is difficult so we can define that as the fastest spin. In order to classify the spin, we would require at least 4 snapshots during movement. Therefore 4.2 spins per second * 4 snapshots = **16.4 FPS as the minimum frame rate**. Luckily my iPhone has FPS of 30 which is plenty.  \n",
        "\n",
        "We also define a minimum time in which a spin must be completed. In salsa the slowest type of turn takes around 3 counts/beats. In a 140 BPM song, that is 3 beats / 2.3 BPS = 1.3 seconds. It turns out it is easier to deal with number of frames so 1.3 seconds * 30 fps = 39 frames. **A turn must occur within 1.3 seconds of 39 frames**\n",
        "\n",
        "### Quantifying a turn\n",
        "In order to quantify a turn, I first define 4 orientations: facing front, right, back, and left. To simplify the definition of a full turn, the starting and ending point of the turn must be towards the camera (facing front). A right turn would mean an orientation pattern of FRONT->RIGHT->BACK->LEFT->FRONT and a left turn would mean FRONT->LEFT->BACK->RIGHT->FRONT.\n",
        "\n",
        "I classify orientation simply using only 3 keypoints: the left shoulder, the right shoulder, and the nose. If nose is further to the left, then the person is left facing and vice versa to the right. And then the shoulder orientation can be easily used to define forward vs backward facing.\n",
        "\n",
        "\n",
        "\n",
        "```\n",
        "def get_orientation(x_ls,x_rs,x_n):\n",
        "    \"\"\"\n",
        "    x_ls: x-coordinate of left shoulder\n",
        "    x_rs: x-coordinate of right shoulder\n",
        "    x_n: x-coordinate of nose\n",
        "    \"\"\"\n",
        "    if (x_rs<x_n)&(x_n<x_ls):\n",
        "        return \"front\"\n",
        "    elif (x_rs<x_n)&(x_ls<x_n):\n",
        "        return \"left\"\n",
        "    elif (x_ls<x_n)&(x_n<x_rs):\n",
        "        return \"back\"\n",
        "    elif (x_n<x_ls)&(x_n<x_rs):\n",
        "        return \"right\"\n",
        "    else:\n",
        "        return \"Error: something went wrong.\"\n",
        "```\n",
        "\n",
        "\n",
        "\n",
        "\n",
        "### Limitations of this work as well as future work that could be done\n",
        "- This has only been tested on a single dancer. In principle, it should also work with multiple dancers.\n",
        "- One could try transfer learning and remove the last few layers of the fully-convolutional network and then retrain it with video data of partner dancing. Relative keypoints in the context of partner dancing could be interesting and novel.\n",
        "- It's possible that an orientation pattern like FRONT->RIGHT->BACK->RIGHT->BACK->LEFT->FRONT could be done within the time constraint. My spin tracking method may not count this.\n",
        "- This hasn't been tested on noisy data yet.\n",
        "- There are definitely improvements that could be made to make this code more efficient.\n"
      ],
      "metadata": {
        "id": "94VDF2GkNSoJ"
      }
    },
    {
      "cell_type": "markdown",
      "source": [
        "## Loading modules"
      ],
      "metadata": {
        "id": "eNROQKF2XBha"
      }
    },
    {
      "cell_type": "code",
      "source": [
        "!pip install -q git+https://github.com/tensorflow/docs"
      ],
      "metadata": {
        "colab": {
          "base_uri": "https://localhost:8080/"
        },
        "id": "FpfJIMl6NtHH",
        "outputId": "d18fd5f9-0e6c-46f4-e889-0f0ff727052f"
      },
      "execution_count": 253,
      "outputs": [
        {
          "output_type": "stream",
          "name": "stdout",
          "text": [
            "  Preparing metadata (setup.py) ... \u001b[?25l\u001b[?25hdone\n"
          ]
        }
      ]
    },
    {
      "cell_type": "code",
      "source": [
        "import tensorflow as tf\n",
        "import tensorflow_hub as hub\n",
        "from tensorflow_docs.vis import embed\n",
        "import numpy as np\n",
        "import cv2\n",
        "\n",
        "# Import matplotlib libraries\n",
        "from matplotlib import pyplot as plt\n",
        "from matplotlib.collections import LineCollection\n",
        "import matplotlib.patches as patches\n",
        "\n",
        "# Some modules to display an animation using imageio.\n",
        "import imageio\n",
        "from IPython.display import HTML, display"
      ],
      "metadata": {
        "id": "50Gu5GHmNnz9"
      },
      "execution_count": 254,
      "outputs": []
    },
    {
      "cell_type": "markdown",
      "source": [
        "## Defining relevant functions"
      ],
      "metadata": {
        "id": "CeXxEf_PfE1P"
      }
    },
    {
      "cell_type": "code",
      "source": [
        "# Dictionary that maps from joint names to keypoint indices.\n",
        "KEYPOINT_DICT = {\n",
        "    'nose': 0,\n",
        "    'left_eye': 1,\n",
        "    'right_eye': 2,\n",
        "    'left_ear': 3,\n",
        "    'right_ear': 4,\n",
        "    'left_shoulder': 5,\n",
        "    'right_shoulder': 6,\n",
        "    'left_elbow': 7,\n",
        "    'right_elbow': 8,\n",
        "    'left_wrist': 9,\n",
        "    'right_wrist': 10,\n",
        "    'left_hip': 11,\n",
        "    'right_hip': 12,\n",
        "    'left_knee': 13,\n",
        "    'right_knee': 14,\n",
        "    'left_ankle': 15,\n",
        "    'right_ankle': 16\n",
        "}\n",
        "\n",
        "# Maps bones to a matplotlib color name.\n",
        "KEYPOINT_EDGE_INDS_TO_COLOR = {\n",
        "    (0, 1): 'm',\n",
        "    (0, 2): 'c',\n",
        "    (1, 3): 'm',\n",
        "    (2, 4): 'c',\n",
        "    (0, 5): 'm',\n",
        "    (0, 6): 'c',\n",
        "    (5, 7): 'm',\n",
        "    (7, 9): 'm',\n",
        "    (6, 8): 'c',\n",
        "    (8, 10): 'c',\n",
        "    (5, 6): 'y',\n",
        "    (5, 11): 'm',\n",
        "    (6, 12): 'c',\n",
        "    (11, 12): 'y',\n",
        "    (11, 13): 'm',\n",
        "    (13, 15): 'm',\n",
        "    (12, 14): 'c',\n",
        "    (14, 16): 'c'\n",
        "}\n",
        "\n",
        "def _keypoints_and_edges_for_display(keypoints_with_scores,\n",
        "                                     height,\n",
        "                                     width,\n",
        "                                     keypoint_threshold=0.11):\n",
        "  \"\"\"Returns high confidence keypoints and edges for visualization.\n",
        "\n",
        "  Args:\n",
        "    keypoints_with_scores: A numpy array with shape [1, 1, 17, 3] representing\n",
        "      the keypoint coordinates and scores returned from the MoveNet model.\n",
        "    height: height of the image in pixels.\n",
        "    width: width of the image in pixels.\n",
        "    keypoint_threshold: minimum confidence score for a keypoint to be\n",
        "      visualized.\n",
        "\n",
        "  Returns:\n",
        "    A (keypoints_xy, edges_xy, edge_colors) containing:\n",
        "      * the coordinates of all keypoints of all detected entities;\n",
        "      * the coordinates of all skeleton edges of all detected entities;\n",
        "      * the colors in which the edges should be plotted.\n",
        "  \"\"\"\n",
        "  keypoints_all = []\n",
        "  keypoint_edges_all = []\n",
        "  edge_colors = []\n",
        "  num_instances, _, _, _ = keypoints_with_scores.shape\n",
        "  for idx in range(num_instances):\n",
        "    kpts_x = keypoints_with_scores[0, idx, :, 1]\n",
        "    kpts_y = keypoints_with_scores[0, idx, :, 0]\n",
        "    kpts_scores = keypoints_with_scores[0, idx, :, 2]\n",
        "    kpts_absolute_xy = np.stack(\n",
        "        [width * np.array(kpts_x), height * np.array(kpts_y)], axis=-1)\n",
        "    kpts_above_thresh_absolute = kpts_absolute_xy[\n",
        "        kpts_scores > keypoint_threshold, :]\n",
        "    keypoints_all.append(kpts_above_thresh_absolute)\n",
        "\n",
        "    for edge_pair, color in KEYPOINT_EDGE_INDS_TO_COLOR.items():\n",
        "      if (kpts_scores[edge_pair[0]] > keypoint_threshold and\n",
        "          kpts_scores[edge_pair[1]] > keypoint_threshold):\n",
        "        x_start = kpts_absolute_xy[edge_pair[0], 0]\n",
        "        y_start = kpts_absolute_xy[edge_pair[0], 1]\n",
        "        x_end = kpts_absolute_xy[edge_pair[1], 0]\n",
        "        y_end = kpts_absolute_xy[edge_pair[1], 1]\n",
        "        line_seg = np.array([[x_start, y_start], [x_end, y_end]])\n",
        "        keypoint_edges_all.append(line_seg)\n",
        "        edge_colors.append(color)\n",
        "  if keypoints_all:\n",
        "    keypoints_xy = np.concatenate(keypoints_all, axis=0)\n",
        "  else:\n",
        "    keypoints_xy = np.zeros((0, 17, 2))\n",
        "\n",
        "  if keypoint_edges_all:\n",
        "    edges_xy = np.stack(keypoint_edges_all, axis=0)\n",
        "  else:\n",
        "    edges_xy = np.zeros((0, 2, 2))\n",
        "  return keypoints_xy, edges_xy, edge_colors\n",
        "\n",
        "\n",
        "def draw_prediction_on_image(\n",
        "    image, keypoints_with_scores, crop_region=None, close_figure=False,\n",
        "    output_image_height=None):\n",
        "  \"\"\"Draws the keypoint predictions on image.\n",
        "\n",
        "  Args:\n",
        "    image: A numpy array with shape [height, width, channel] representing the\n",
        "      pixel values of the input image.\n",
        "    keypoints_with_scores: A numpy array with shape [1, 1, 17, 3] representing\n",
        "      the keypoint coordinates and scores returned from the MoveNet model.\n",
        "    crop_region: A dictionary that defines the coordinates of the bounding box\n",
        "      of the crop region in normalized coordinates (see the init_crop_region\n",
        "      function below for more detail). If provided, this function will also\n",
        "      draw the bounding box on the image.\n",
        "    output_image_height: An integer indicating the height of the output image.\n",
        "      Note that the image aspect ratio will be the same as the input image.\n",
        "\n",
        "  Returns:\n",
        "    A numpy array with shape [out_height, out_width, channel] representing the\n",
        "    image overlaid with keypoint predictions.\n",
        "  \"\"\"\n",
        "  height, width, channel = image.shape\n",
        "  aspect_ratio = float(width) / height\n",
        "  fig, ax = plt.subplots(figsize=(12 * aspect_ratio, 12))\n",
        "  # To remove the huge white borders\n",
        "  fig.tight_layout(pad=0)\n",
        "  ax.margins(0)\n",
        "  ax.set_yticklabels([])\n",
        "  ax.set_xticklabels([])\n",
        "  plt.axis('off')\n",
        "\n",
        "  im = ax.imshow(image)\n",
        "  line_segments = LineCollection([], linewidths=(4), linestyle='solid')\n",
        "  ax.add_collection(line_segments)\n",
        "  # Turn off tick labels\n",
        "  scat = ax.scatter([], [], s=60, color='#FF1493', zorder=3)\n",
        "\n",
        "  (keypoint_locs, keypoint_edges,\n",
        "   edge_colors) = _keypoints_and_edges_for_display(\n",
        "       keypoints_with_scores, height, width)\n",
        "\n",
        "  line_segments.set_segments(keypoint_edges)\n",
        "  line_segments.set_color(edge_colors)\n",
        "  if keypoint_edges.shape[0]:\n",
        "    line_segments.set_segments(keypoint_edges)\n",
        "    line_segments.set_color(edge_colors)\n",
        "  if keypoint_locs.shape[0]:\n",
        "    scat.set_offsets(keypoint_locs)\n",
        "\n",
        "  if crop_region is not None:\n",
        "    xmin = max(crop_region['x_min'] * width, 0.0)\n",
        "    ymin = max(crop_region['y_min'] * height, 0.0)\n",
        "    rec_width = min(crop_region['x_max'], 0.99) * width - xmin\n",
        "    rec_height = min(crop_region['y_max'], 0.99) * height - ymin\n",
        "    rect = patches.Rectangle(\n",
        "        (xmin,ymin),rec_width,rec_height,\n",
        "        linewidth=1,edgecolor='b',facecolor='none')\n",
        "    ax.add_patch(rect)\n",
        "\n",
        "  fig.canvas.draw()\n",
        "  image_from_plot = np.frombuffer(fig.canvas.tostring_rgb(), dtype=np.uint8)\n",
        "  image_from_plot = image_from_plot.reshape(\n",
        "      fig.canvas.get_width_height()[::-1] + (3,))\n",
        "  plt.close(fig)\n",
        "  if output_image_height is not None:\n",
        "    output_image_width = int(output_image_height / height * width)\n",
        "    image_from_plot = cv2.resize(\n",
        "        image_from_plot, dsize=(output_image_width, output_image_height),\n",
        "         interpolation=cv2.INTER_CUBIC)\n",
        "  return image_from_plot\n",
        "\n",
        "def to_gif(images, duration):\n",
        "  \"\"\"Converts image sequence (4D numpy array) to gif.\"\"\"\n",
        "  imageio.mimsave('./animation.gif', images, duration=duration)\n",
        "  return embed.embed_file('./animation.gif')\n",
        "\n",
        "def progress(value, max=100):\n",
        "  return HTML(\"\"\"\n",
        "      <progress\n",
        "          value='{value}'\n",
        "          max='{max}',\n",
        "          style='width: 100%'\n",
        "      >\n",
        "          {value}\n",
        "      </progress>\n",
        "  \"\"\".format(value=value, max=max))\n",
        "\n",
        "\n",
        "#### The following are used in the image sequencing portion of this project\n",
        "\n",
        "# Confidence score to determine whether a keypoint prediction is reliable.\n",
        "MIN_CROP_KEYPOINT_SCORE = 0.2\n",
        "\n",
        "def init_crop_region(image_height, image_width):\n",
        "  \"\"\"Defines the default crop region.\n",
        "\n",
        "  The function provides the initial crop region (pads the full image from both\n",
        "  sides to make it a square image) when the algorithm cannot reliably determine\n",
        "  the crop region from the previous frame.\n",
        "  \"\"\"\n",
        "  if image_width > image_height:\n",
        "    box_height = image_width / image_height\n",
        "    box_width = 1.0\n",
        "    y_min = (image_height / 2 - image_width / 2) / image_height\n",
        "    x_min = 0.0\n",
        "  else:\n",
        "    box_height = 1.0\n",
        "    box_width = image_height / image_width\n",
        "    y_min = 0.0\n",
        "    x_min = (image_width / 2 - image_height / 2) / image_width\n",
        "\n",
        "  return {\n",
        "    'y_min': y_min,\n",
        "    'x_min': x_min,\n",
        "    'y_max': y_min + box_height,\n",
        "    'x_max': x_min + box_width,\n",
        "    'height': box_height,\n",
        "    'width': box_width\n",
        "  }\n",
        "\n",
        "def torso_visible(keypoints):\n",
        "  \"\"\"Checks whether there are enough torso keypoints.\n",
        "\n",
        "  This function checks whether the model is confident at predicting one of the\n",
        "  shoulders/hips which is required to determine a good crop region.\n",
        "  \"\"\"\n",
        "  return ((keypoints[0, 0, KEYPOINT_DICT['left_hip'], 2] >\n",
        "           MIN_CROP_KEYPOINT_SCORE or\n",
        "          keypoints[0, 0, KEYPOINT_DICT['right_hip'], 2] >\n",
        "           MIN_CROP_KEYPOINT_SCORE) and\n",
        "          (keypoints[0, 0, KEYPOINT_DICT['left_shoulder'], 2] >\n",
        "           MIN_CROP_KEYPOINT_SCORE or\n",
        "          keypoints[0, 0, KEYPOINT_DICT['right_shoulder'], 2] >\n",
        "           MIN_CROP_KEYPOINT_SCORE))\n",
        "\n",
        "def determine_torso_and_body_range(\n",
        "    keypoints, target_keypoints, center_y, center_x):\n",
        "  \"\"\"Calculates the maximum distance from each keypoints to the center location.\n",
        "\n",
        "  The function returns the maximum distances from the two sets of keypoints:\n",
        "  full 17 keypoints and 4 torso keypoints. The returned information will be\n",
        "  used to determine the crop size. See determineCropRegion for more detail.\n",
        "  \"\"\"\n",
        "  torso_joints = ['left_shoulder', 'right_shoulder', 'left_hip', 'right_hip']\n",
        "  max_torso_yrange = 0.0\n",
        "  max_torso_xrange = 0.0\n",
        "  for joint in torso_joints:\n",
        "    dist_y = abs(center_y - target_keypoints[joint][0])\n",
        "    dist_x = abs(center_x - target_keypoints[joint][1])\n",
        "    if dist_y > max_torso_yrange:\n",
        "      max_torso_yrange = dist_y\n",
        "    if dist_x > max_torso_xrange:\n",
        "      max_torso_xrange = dist_x\n",
        "\n",
        "  max_body_yrange = 0.0\n",
        "  max_body_xrange = 0.0\n",
        "  for joint in KEYPOINT_DICT.keys():\n",
        "    if keypoints[0, 0, KEYPOINT_DICT[joint], 2] < MIN_CROP_KEYPOINT_SCORE:\n",
        "      continue\n",
        "    dist_y = abs(center_y - target_keypoints[joint][0]);\n",
        "    dist_x = abs(center_x - target_keypoints[joint][1]);\n",
        "    if dist_y > max_body_yrange:\n",
        "      max_body_yrange = dist_y\n",
        "\n",
        "    if dist_x > max_body_xrange:\n",
        "      max_body_xrange = dist_x\n",
        "\n",
        "  return [max_torso_yrange, max_torso_xrange, max_body_yrange, max_body_xrange]\n",
        "\n",
        "def determine_crop_region(\n",
        "      keypoints, image_height,\n",
        "      image_width):\n",
        "  \"\"\"Determines the region to crop the image for the model to run inference on.\n",
        "\n",
        "  The algorithm uses the detected joints from the previous frame to estimate\n",
        "  the square region that encloses the full body of the target person and\n",
        "  centers at the midpoint of two hip joints. The crop size is determined by\n",
        "  the distances between each joints and the center point.\n",
        "  When the model is not confident with the four torso joint predictions, the\n",
        "  function returns a default crop which is the full image padded to square.\n",
        "  \"\"\"\n",
        "  target_keypoints = {}\n",
        "  for joint in KEYPOINT_DICT.keys():\n",
        "    target_keypoints[joint] = [\n",
        "      keypoints[0, 0, KEYPOINT_DICT[joint], 0] * image_height,\n",
        "      keypoints[0, 0, KEYPOINT_DICT[joint], 1] * image_width\n",
        "    ]\n",
        "\n",
        "  if torso_visible(keypoints):\n",
        "    center_y = (target_keypoints['left_hip'][0] +\n",
        "                target_keypoints['right_hip'][0]) / 2;\n",
        "    center_x = (target_keypoints['left_hip'][1] +\n",
        "                target_keypoints['right_hip'][1]) / 2;\n",
        "\n",
        "    (max_torso_yrange, max_torso_xrange,\n",
        "      max_body_yrange, max_body_xrange) = determine_torso_and_body_range(\n",
        "          keypoints, target_keypoints, center_y, center_x)\n",
        "\n",
        "    crop_length_half = np.amax(\n",
        "        [max_torso_xrange * 1.9, max_torso_yrange * 1.9,\n",
        "          max_body_yrange * 1.2, max_body_xrange * 1.2])\n",
        "\n",
        "    tmp = np.array(\n",
        "        [center_x, image_width - center_x, center_y, image_height - center_y])\n",
        "    crop_length_half = np.amin(\n",
        "        [crop_length_half, np.amax(tmp)]);\n",
        "\n",
        "    crop_corner = [center_y - crop_length_half, center_x - crop_length_half];\n",
        "\n",
        "    if crop_length_half > max(image_width, image_height) / 2:\n",
        "      return init_crop_region(image_height, image_width)\n",
        "    else:\n",
        "      crop_length = crop_length_half * 2;\n",
        "      return {\n",
        "        'y_min': crop_corner[0] / image_height,\n",
        "        'x_min': crop_corner[1] / image_width,\n",
        "        'y_max': (crop_corner[0] + crop_length) / image_height,\n",
        "        'x_max': (crop_corner[1] + crop_length) / image_width,\n",
        "        'height': (crop_corner[0] + crop_length) / image_height -\n",
        "            crop_corner[0] / image_height,\n",
        "        'width': (crop_corner[1] + crop_length) / image_width -\n",
        "            crop_corner[1] / image_width\n",
        "      }\n",
        "  else:\n",
        "    return init_crop_region(image_height, image_width)\n",
        "\n",
        "def crop_and_resize(image, crop_region, crop_size):\n",
        "  \"\"\"Crops and resize the image to prepare for the model input.\"\"\"\n",
        "  boxes=[[crop_region['y_min'], crop_region['x_min'],\n",
        "          crop_region['y_max'], crop_region['x_max']]]\n",
        "  output_image = tf.image.crop_and_resize(\n",
        "      image, box_indices=[0], boxes=boxes, crop_size=crop_size)\n",
        "  return output_image\n",
        "\n",
        "def run_inference(movenet, image, crop_region, crop_size):\n",
        "  \"\"\"Runs model inference on the cropped region.\n",
        "\n",
        "  The function runs the model inference on the cropped region and updates the\n",
        "  model output to the original image coordinate system.\n",
        "  \"\"\"\n",
        "  image_height, image_width, _ = image.shape\n",
        "  input_image = crop_and_resize(\n",
        "    tf.expand_dims(image, axis=0), crop_region, crop_size=crop_size)\n",
        "  # Run model inference.\n",
        "  keypoints_with_scores = movenet(input_image)\n",
        "  # Update the coordinates.\n",
        "  for idx in range(17):\n",
        "    keypoints_with_scores[0, 0, idx, 0] = (\n",
        "        crop_region['y_min'] * image_height +\n",
        "        crop_region['height'] * image_height *\n",
        "        keypoints_with_scores[0, 0, idx, 0]) / image_height\n",
        "    keypoints_with_scores[0, 0, idx, 1] = (\n",
        "        crop_region['x_min'] * image_width +\n",
        "        crop_region['width'] * image_width *\n",
        "        keypoints_with_scores[0, 0, idx, 1]) / image_width\n",
        "  return keypoints_with_scores\n"
      ],
      "metadata": {
        "id": "2t7ssIrGf1eB"
      },
      "execution_count": 257,
      "outputs": []
    },
    {
      "cell_type": "code",
      "source": [
        "def get_orientation(x_ls,x_rs,x_n):\n",
        "    \"\"\"\n",
        "    x_ls: x-coordinate of left shoulder\n",
        "    x_rs: x-coordinate of right shoulder\n",
        "    x_n: x-coordinate of nose\n",
        "    \"\"\"\n",
        "    if (x_rs<x_n)&(x_n<x_ls):\n",
        "        return \"front\"\n",
        "    elif (x_rs<x_n)&(x_ls<x_n):\n",
        "        return \"left\"\n",
        "    elif (x_ls<x_n)&(x_n<x_rs):\n",
        "        return \"back\"\n",
        "    elif (x_n<x_ls)&(x_n<x_rs):\n",
        "        return \"right\"\n",
        "    else:\n",
        "        return \"Error: something went wrong.\""
      ],
      "metadata": {
        "id": "yS8Qnw34fgva"
      },
      "execution_count": 258,
      "outputs": []
    },
    {
      "cell_type": "markdown",
      "source": [
        "## Obtaining model from tensor-flow hub and defining the MoveNet model"
      ],
      "metadata": {
        "id": "7cb9Xu-PTzkW"
      }
    },
    {
      "cell_type": "code",
      "source": [
        "model_name = \"movenet_lightning\" # @param [\"movenet_lightning\", \"movenet_thunder\", \"movenet_lightning_f16.tflite\", \"movenet_thunder_f16.tflite\", \"movenet_lightning_int8.tflite\", \"movenet_thunder_int8.tflite\"]"
      ],
      "metadata": {
        "id": "1dYGK_5mRIhC"
      },
      "execution_count": 259,
      "outputs": []
    },
    {
      "cell_type": "code",
      "source": [
        "if \"tflite\" in model_name:\n",
        "  if \"movenet_lightning_f16\" in model_name:\n",
        "    !wget -q -O model.tflite https://tfhub.dev/google/lite-model/movenet/singlepose/lightning/tflite/float16/4?lite-format=tflite\n",
        "    input_size = 192\n",
        "  elif \"movenet_thunder_f16\" in model_name:\n",
        "    !wget -q -O model.tflite https://tfhub.dev/google/lite-model/movenet/singlepose/thunder/tflite/float16/4?lite-format=tflite\n",
        "    input_size = 256\n",
        "  elif \"movenet_lightning_int8\" in model_name:\n",
        "    !wget -q -O model.tflite https://tfhub.dev/google/lite-model/movenet/singlepose/lightning/tflite/int8/4?lite-format=tflite\n",
        "    input_size = 192\n",
        "  elif \"movenet_thunder_int8\" in model_name:\n",
        "    !wget -q -O model.tflite https://tfhub.dev/google/lite-model/movenet/singlepose/thunder/tflite/int8/4?lite-format=tflite\n",
        "    input_size = 256\n",
        "  else:\n",
        "    raise ValueError(\"Unsupported model name: %s\" % model_name)\n",
        "\n",
        "  # Initialize the TFLite interpreter\n",
        "  interpreter = tf.lite.Interpreter(model_path=\"model.tflite\")\n",
        "  interpreter.allocate_tensors()\n",
        "\n",
        "  def movenet(input_image):\n",
        "    \"\"\"Runs detection on an input image.\n",
        "\n",
        "    Args:\n",
        "      input_image: A [1, height, width, 3] tensor represents the input image\n",
        "        pixels. Note that the height/width should already be resized and match the\n",
        "        expected input resolution of the model before passing into this function.\n",
        "\n",
        "    Returns:\n",
        "      A [1, 1, 17, 3] float numpy array representing the predicted keypoint\n",
        "      coordinates and scores.\n",
        "    \"\"\"\n",
        "    # TF Lite format expects tensor type of uint8.\n",
        "    input_image = tf.cast(input_image, dtype=tf.uint8)\n",
        "    input_details = interpreter.get_input_details()\n",
        "    output_details = interpreter.get_output_details()\n",
        "    interpreter.set_tensor(input_details[0]['index'], input_image.numpy())\n",
        "    # Invoke inference.\n",
        "    interpreter.invoke()\n",
        "    # Get the model prediction.\n",
        "    keypoints_with_scores = interpreter.get_tensor(output_details[0]['index'])\n",
        "    return keypoints_with_scores\n",
        "\n",
        "else:\n",
        "  if \"movenet_lightning\" in model_name:\n",
        "    module = hub.load(\"https://tfhub.dev/google/movenet/singlepose/lightning/4\")\n",
        "    input_size = 192\n",
        "  elif \"movenet_thunder\" in model_name:\n",
        "    module = hub.load(\"https://tfhub.dev/google/movenet/singlepose/thunder/4\")\n",
        "    input_size = 256\n",
        "  else:\n",
        "    raise ValueError(\"Unsupported model name: %s\" % model_name)\n",
        "\n",
        "  def movenet(input_image):\n",
        "    \"\"\"Runs detection on an input image.\n",
        "\n",
        "    Args:\n",
        "      input_image: A [1, height, width, 3] tensor represents the input image\n",
        "        pixels. Note that the height/width should already be resized and match the\n",
        "        expected input resolution of the model before passing into this function.\n",
        "\n",
        "    Returns:\n",
        "      A [1, 1, 17, 3] float numpy array representing the predicted keypoint\n",
        "      coordinates and scores.\n",
        "    \"\"\"\n",
        "    model = module.signatures['serving_default']\n",
        "\n",
        "    # SavedModel format expects tensor type of int32.\n",
        "    input_image = tf.cast(input_image, dtype=tf.int32)\n",
        "    # Run model inference.\n",
        "    outputs = model(input_image)\n",
        "    # Output is a [1, 1, 17, 3] tensor.\n",
        "    keypoints_with_scores = outputs['output_0'].numpy()\n",
        "    return keypoints_with_scores\n"
      ],
      "metadata": {
        "id": "6O89C4kYQK_M"
      },
      "execution_count": 260,
      "outputs": []
    },
    {
      "cell_type": "markdown",
      "source": [
        "## Mounting local Google Drive"
      ],
      "metadata": {
        "id": "nBnC708PXQQo"
      }
    },
    {
      "cell_type": "code",
      "source": [
        "from google.colab import drive\n",
        "drive.mount('/content/drive/',force_remount=True)\n",
        "working_dir = \"drive/MyDrive/MoveNetProject/\"\n",
        "saving_calib = working_dir + \"output_images/calibration.png\""
      ],
      "metadata": {
        "colab": {
          "base_uri": "https://localhost:8080/"
        },
        "id": "_21-FtcTUILH",
        "outputId": "92be0ac4-3e8f-4f6a-c24d-4f1505491ee2"
      },
      "execution_count": 263,
      "outputs": [
        {
          "output_type": "stream",
          "name": "stdout",
          "text": [
            "Mounted at /content/drive/\n"
          ]
        }
      ]
    },
    {
      "cell_type": "markdown",
      "source": [
        "## Calibrating orientation classification"
      ],
      "metadata": {
        "id": "22NxtqvTXYpo"
      }
    },
    {
      "cell_type": "code",
      "source": [
        "pose_calibration_images = [\"backwards.png\",\"back-diag.png\",\"front.png\",\"front-diag.png\",\"side.png\"]\n",
        "\n",
        "fig,ax = plt.subplots(1,len(pose_calibration_images),squeeze=False,figsize=(10,2))\n",
        "for i in range(len(pose_calibration_images)):\n",
        "    # Loading each image as a tensor and preparing them to be input into the model\n",
        "    im_path = working_dir+\"pose_calibration/\"+str(pose_calibration_images[i])\n",
        "    image = tf.io.read_file(im_path)\n",
        "    image = tf.image.decode_png(image)\n",
        "    input_image = tf.expand_dims(image, axis=0) #adding a dimension in axis=0\n",
        "    input_image = tf.image.resize_with_pad(input_image, input_size, input_size)\n",
        "\n",
        "    # Run model inference.\n",
        "    keypoints_with_scores = movenet(input_image)\n",
        "\n",
        "    # Visualize the predictions with image.\n",
        "    display_image = tf.expand_dims(image, axis=0)\n",
        "    display_image = tf.cast(tf.image.resize_with_pad(\n",
        "        display_image, 1280, 1280), dtype=tf.int32)\n",
        "    output_overlay = draw_prediction_on_image(\n",
        "        np.squeeze(display_image.numpy(), axis=0), keypoints_with_scores)\n",
        "    ax[0,i].imshow(output_overlay)\n",
        "\n",
        "    #extracting nose and shoulder keypoint coordinates\n",
        "    x_n = keypoints_with_scores[0,0][:,1][0] #0,5,6\n",
        "    x_ls = keypoints_with_scores[0,0][:,1][5]\n",
        "    x_rs = keypoints_with_scores[0,0][:,1][6]\n",
        "    orientation = get_orientation(x_ls,x_rs,x_n)\n",
        "\n",
        "    ax[0,i].set_title(orientation)\n",
        "plt.savefig(saving_calib,dpi=250)"
      ],
      "metadata": {
        "colab": {
          "base_uri": "https://localhost:8080/",
          "height": 216
        },
        "id": "gm08246EUtXK",
        "outputId": "8368f04d-1bad-467b-9ef4-9d94d4c81c15"
      },
      "execution_count": 264,
      "outputs": [
        {
          "output_type": "display_data",
          "data": {
            "text/plain": [
              "<Figure size 1000x200 with 5 Axes>"
            ],
            "image/png": "[encoded data removed]"
          },
          "metadata": {}
        }
      ]
    },
    {
      "cell_type": "markdown",
      "source": [
        "Looks good!"
      ],
      "metadata": {
        "id": "lejxMQ4FgpJ7"
      }
    },
    {
      "cell_type": "markdown",
      "source": [
        "### Image sequencing\n",
        "\n",
        "Now that we confirmed that the orientation classifier is working, let's try to apply it to a video (image sequence). You can see a spin demo [here](https://drive.google.com/file/d/1tk2NUIP_wmiNHCWMGbi5JKeNgKGTGd6K/view?usp=drive_link) where I do a right fast single turn, a left rhythmic double turn, and a right double spin on one foot. **In total that is 3 right turns and 2 left turns.**"
      ],
      "metadata": {
        "id": "mQn-Ih14WziV"
      }
    },
    {
      "cell_type": "code",
      "source": [
        "image_path = working_dir+\"pose_calibration/SpinVideoDemo.gif\" #TensorShape([300, 1920, 1080, 3])\n",
        "# image_path = working_dir+\"pose_calibration/dance.gif\" #TensorShape([42, 338, 600, 3])\n",
        "image = tf.io.read_file(image_path)\n",
        "image = tf.image.decode_gif(image)"
      ],
      "metadata": {
        "id": "7CRjqJKcUITI"
      },
      "execution_count": 267,
      "outputs": []
    },
    {
      "cell_type": "code",
      "source": [
        "# Load the input image sequence.\n",
        "num_frames, image_height, image_width, _ = image.shape\n",
        "crop_region = init_crop_region(image_height, image_width)\n",
        "\n",
        "output_images = []\n",
        "dancer_orientations = []\n",
        "bar = display(progress(0, num_frames-1), display_id=True)\n",
        "for frame_idx in range(num_frames):\n",
        "  keypoints_with_scores = run_inference(\n",
        "      movenet, image[frame_idx, :, :, :], crop_region,\n",
        "      crop_size=[input_size, input_size])\n",
        "  output_images.append(draw_prediction_on_image(\n",
        "      image[frame_idx, :, :, :].numpy().astype(np.int32),\n",
        "      keypoints_with_scores, crop_region=None,\n",
        "      close_figure=True, output_image_height=300))\n",
        "  crop_region = determine_crop_region(\n",
        "      keypoints_with_scores, image_height, image_width)\n",
        "  x_n = keypoints_with_scores[0,0][:,1][0] #0,5,6\n",
        "  x_ls = keypoints_with_scores[0,0][:,1][5]\n",
        "  x_rs = keypoints_with_scores[0,0][:,1][6]\n",
        "  orientation = get_orientation(x_ls,x_rs,x_n)\n",
        "  dancer_orientations.append(orientation)\n",
        "  bar.update(progress(frame_idx, num_frames-1))\n",
        "\n",
        "# Prepare gif visualization.\n",
        "output = np.stack(output_images, axis=0)\n",
        "# to_gif(output, duration=100)"
      ],
      "metadata": {
        "colab": {
          "base_uri": "https://localhost:8080/",
          "height": 34
        },
        "id": "0JeF-j4QUIWV",
        "outputId": "4ec96a26-597b-4066-e3d0-4f72f88c7de9"
      },
      "execution_count": 268,
      "outputs": [
        {
          "output_type": "display_data",
          "data": {
            "text/plain": [
              "<IPython.core.display.HTML object>"
            ],
            "text/html": [
              "\n",
              "      <progress\n",
              "          value='248'\n",
              "          max='248',\n",
              "          style='width: 100%'\n",
              "      >\n",
              "          248\n",
              "      </progress>\n",
              "  "
            ]
          },
          "metadata": {}
        }
      ]
    },
    {
      "cell_type": "code",
      "source": [
        "unique_categories = [\"front\",\"right\",\"back\",\"left\"] #np.unique(dancer_orientations)\n",
        "category_to_index = {orientation: index for index, orientation in enumerate(unique_categories)}\n",
        "numerical_labels = np.array([category_to_index[orientation] for orientation in dancer_orientations])"
      ],
      "metadata": {
        "id": "2RWbpnJYhgqU"
      },
      "execution_count": 269,
      "outputs": []
    },
    {
      "cell_type": "code",
      "source": [
        "save_snapshots = False     #it can be slow to save the snapshots every time so consider turning this off during debugging\n",
        "tracker = 0               #if tracker=4 then RHRD spin. If tracker=-4 then RHRU spin.\n",
        "time_chunk_threshold = 39 #turns only count if they took less than a 1.3 seconds. So 39 frames (assuming fps=30)\n",
        "time_checker = 0          #iterate this parameter to ensure that the turns are faster than the threshold\n",
        "total_RHRU_spins = 0      #RHRU means right-hand rule up (left turns)\n",
        "total_RHRD_spins = 0      #RHRD means right-hand rule down (right turns)\n",
        "N_labels = len(numerical_labels) #number of labeled snapshots\n",
        "\n",
        "assert numerical_labels[0]==0 #start facing the front. For simplicity, I assert this.\n",
        "for i in range(1,N_labels):\n",
        "  time_flag = time_checker>=time_chunk_threshold #time_flag is True if the turn is too slow.\n",
        "\n",
        "  if (numerical_labels[i]==0): #keep time_checker equal to zero until a turn starts happening.\n",
        "    time_checker=0\n",
        "  else: #iterate time_checker everytime not facing the front\n",
        "    time_checker+=1\n",
        "\n",
        "  if time_flag: # if time-checker is greater than threshold then skip rest of loop\n",
        "    if numerical_labels[i]==0: #if additionally facing the front, reset tracker. This ensures that you don't count the slow turns.\n",
        "      tracker=0                #when it goes back to the top of the loop, time-checker will also reset to 0.\n",
        "    continue\n",
        "\n",
        "  # the difference between consecutive numerical orientation labels. It can be (1,-3) for RHRD or (-1,3) for RHRU turns.\n",
        "  difference = int(numerical_labels[i]-numerical_labels[i-1])\n",
        "  if (difference==0): #do nothing. keep this line or else the \"else\" line won't work correctly\n",
        "    continue\n",
        "  elif difference in [1,-3]: #This means RHRD quarter turn\n",
        "    tracker+=1\n",
        "  else: #this means RHRU quarter turn.\n",
        "    tracker-=1\n",
        "\n",
        "  if tracker==4: #4 quarter turns means 1 RHRD turn\n",
        "    tracker=0\n",
        "    total_RHRD_spins +=1\n",
        "  elif tracker==-4:  #-4 quarter turns means 1 RHRU turn\n",
        "    tracker=0\n",
        "    total_RHRU_spins +=1\n",
        "\n",
        "\n",
        "\n",
        "  if save_snapshots:\n",
        "    fig, ax = plt.subplots(1,figsize=(4,6))\n",
        "    ax.set_xticklabels([])\n",
        "    ax.set_yticklabels([])\n",
        "    ax.set_xticks([])\n",
        "    ax.set_yticks([])\n",
        "    ax.imshow(output[i])\n",
        "    ax.text(0.08, 0.95, f\"RS:{total_RHRD_spins:02}\\nLS:{total_RHRU_spins:02}\", transform=ax.transAxes,\n",
        "            fontsize=12, verticalalignment='top', bbox=dict(facecolor='white', alpha=0.5))\n",
        "    plt.savefig(working_dir+f\"output_movie/snapshots/movie_snapshot{i}.png\")\n",
        "    plt.close(fig)"
      ],
      "metadata": {
        "id": "OkwUj7jegqgg"
      },
      "execution_count": 276,
      "outputs": []
    },
    {
      "cell_type": "markdown",
      "source": [
        "Again we expect 3 right turns and 2 left turns so this looks like it is working correctly."
      ],
      "metadata": {
        "id": "ILFEHICznlcz"
      }
    },
    {
      "cell_type": "code",
      "source": [
        "print(f\"Number of right turns: {total_RHRD_spins}\\nNumber of left turns: {total_RHRU_spins}\")"
      ],
      "metadata": {
        "colab": {
          "base_uri": "https://localhost:8080/"
        },
        "id": "kvztafIsniRU",
        "outputId": "0ce439fc-a55c-467b-f4c3-0c9deb5de0d6"
      },
      "execution_count": 282,
      "outputs": [
        {
          "output_type": "stream",
          "name": "stdout",
          "text": [
            "Number of right turns: 3\n",
            "Number of left turns: 2\n"
          ]
        }
      ]
    },
    {
      "cell_type": "markdown",
      "source": [
        "### Finally let's combine these frames together to make a video with our Dance Spin Tracker."
      ],
      "metadata": {
        "id": "ZY4L7J9rifk-"
      }
    },
    {
      "cell_type": "code",
      "source": [
        "image_folder =working_dir+f\"output_movie/snapshots/\"\n",
        "image_paths = []\n",
        "for i in range(1,len(numerical_labels)):\n",
        "  snapshot_path = working_dir+f\"output_movie/snapshots/movie_snapshot{i}.png\"\n",
        "  image_paths.append(snapshot_path)"
      ],
      "metadata": {
        "id": "uN85I5p9kY8y"
      },
      "execution_count": 283,
      "outputs": []
    },
    {
      "cell_type": "code",
      "source": [
        "video_file = working_dir+f\"output_movie/movie.mp4\"\n",
        "\n",
        "# Frame rate (frames per second)\n",
        "fps = 30\n",
        "\n",
        "# Read the first image to get dimensions\n",
        "first_image = cv2.imread(image_paths[0])\n",
        "height, width, layers = first_image.shape\n",
        "\n",
        "# Define the codec and create VideoWriter object\n",
        "fourcc = cv2.VideoWriter_fourcc(*'XVID')  # You can use 'XVID', 'MJPG', 'X264', etc.\n",
        "video = cv2.VideoWriter(video_file, fourcc, fps, (width, height))\n",
        "\n",
        "# Write each frame to the video\n",
        "for image in image_paths:\n",
        "    #img_path = os.path.join(image_folder, image)\n",
        "    frame = cv2.imread(image)\n",
        "    video.write(frame)\n",
        "\n",
        "# Release the VideoWriter\n",
        "video.release()\n",
        "\n",
        "print(f\"Video saved as {video_file}\")"
      ],
      "metadata": {
        "colab": {
          "base_uri": "https://localhost:8080/"
        },
        "id": "M5Bxmbh6k38E",
        "outputId": "fc982e45-13fb-4c08-9f03-9ffba3d784e0"
      },
      "execution_count": 284,
      "outputs": [
        {
          "output_type": "stream",
          "name": "stdout",
          "text": [
            "Video saved as drive/MyDrive/MoveNetProject/output_movie/movie.mp4\n"
          ]
        }
      ]
    },
    {
      "cell_type": "markdown",
      "source": [
        "You can watch the movie [here](https://drive.google.com/file/d/17KZUPwvBw1nVT6s_R2EDPVJx6qUFJbyH/view?usp=sharing)!"
      ],
      "metadata": {
        "id": "q5RhK6ZPo8nQ"
      }
    },
    {
      "cell_type": "markdown",
      "source": [
        "### code graveyard\n",
        "\n",
        "Ignore this."
      ],
      "metadata": {
        "id": "eZ86MHeFoeTX"
      }
    },
    {
      "cell_type": "code",
      "source": [
        "# # save_snapshots = False\n",
        "# # tracker = 0 #if tracker=4 then RHRD spin. If tracker=-4 then RHRU spin.\n",
        "# # time_chunk_boundary = 30 #turns only count if they took less than a second. So 30 frames (assuming fps=30)\n",
        "# # time_checker = 0\n",
        "# # total_RHRU_spins = 0\n",
        "# # total_RHRD_spins = 0\n",
        "# # # test_labels = np.array([0,0,3,2,1,0,3,2,1,0,1,2,3,0])\n",
        "# # assert numerical_labels[0]==0 #start facing the front\n",
        "# # for i in range(1,len(numerical_labels)):\n",
        "# #   if (numerical_labels[i]==0):\n",
        "# #     time_checker=0\n",
        "# #   else:\n",
        "# #     time_checker+=1\n",
        "\n",
        "# #   time_flag = time_checker<time_chunk_boundary\n",
        "\n",
        "# #   if time_flag:\n",
        "# #     difference = int(numerical_labels[i]-numerical_labels[i-1])\n",
        "# #     if (difference==0):\n",
        "# #       pass\n",
        "# #     elif difference in [1,-3]:\n",
        "# #       tracker+=1\n",
        "# #     else:\n",
        "# #       tracker-=1\n",
        "\n",
        "# #     if tracker==4:\n",
        "# #       tracker=0\n",
        "# #       total_RHRD_spins +=1\n",
        "# #     elif tracker==-4:\n",
        "# #       tracker=0\n",
        "# #       total_RHRU_spins +=1\n",
        "\n",
        "# #   else:\n",
        "# #     time_checker = 0\n",
        "# #   # difference = int(numerical_labels[i]-numerical_labels[i-1])\n",
        "# #   # if (difference==0):\n",
        "# #   #   pass\n",
        "# #   # elif difference in [1,-3]:\n",
        "# #   #   tracker+=1\n",
        "# #   # else:\n",
        "# #   #   tracker-=1\n",
        "# #   # print(difference,tracker)\n",
        "\n",
        "\n",
        "\n",
        "\n",
        "# #   if save_snapshots:\n",
        "# #     fig, ax = plt.subplots(1,figsize=(4,6))\n",
        "# #     ax.set_xticklabels([])\n",
        "# #     ax.set_yticklabels([])\n",
        "# #     ax.set_xticks([])\n",
        "# #     ax.set_yticks([])\n",
        "# #     ax.imshow(output[i])\n",
        "# #     ax.text(0.08, 0.95, f\"RS:{total_RHRD_spins:02}\\nLS:{total_RHRU_spins:02}\", transform=ax.transAxes,\n",
        "# #             fontsize=12, verticalalignment='top', bbox=dict(facecolor='white', alpha=0.5))\n",
        "# #     plt.savefig(working_dir+f\"output_movie/snapshots/movie_snapshot{i}.png\")\n",
        "# #     plt.close(fig)\n",
        "\n",
        "# # images = []\n",
        "# # for i in range(1,len(numerical_labels)):\n",
        "# #   snapshot_path = working_dir+f\"output_movie/snapshots/movie_snapshot{i}.png\"\n",
        "# #   images.append(imageio.imread(snapshot_path))\n",
        "\n",
        "# # imageio.mimsave(working_dir+f\"output_movie/movie.gif\", images,fps=10000)\n",
        "# qwer = np.array([0,1,2,3,0])\n",
        "# asdf = np.array([0,3,2,1,0])\n",
        "# np.diff(qwer), np.diff(asdf)\n",
        "# X = [None,None,None,None,None]\n",
        "# for i in range(20):\n",
        "#   X.append(i)\n",
        "#   X.pop(0)\n",
        "# X\n",
        "# array[np.concatenate(([True], array[1:] != array[:-1]))]\n",
        "# # array = np.array(dancer_orientations)\n",
        "# unique_categories = [\"front\",\"right\",\"back\",\"left\"]#np.unique(dancer_orientations)\n",
        "# category_to_index = {orientation: index for index, orientation in enumerate(unique_categories)}\n",
        "# numerical_labels = np.array([category_to_index[orientation] for orientation in dancer_orientations])\n",
        "\n",
        "# # CCW_counts = 0\n",
        "# # CW_counts = 0\n",
        "# # counter = 0\n",
        "# # for i in range(len(numerical_labels)-1):\n",
        "# #   if numerical_labels[i] == numerical_labels[i+1]: #orientation unchanged\n",
        "# #     pass\n",
        "# #   elif numerical_labels[i] > numerical_labels[i+1]:\n",
        "\n",
        "# #   else:\n",
        "\n",
        "# # is_consecutive = np.concatenate(([True], array[1:] != array[:-1]))\n",
        "# # array[is_consecutive]\n",
        "# # # for i in range(len(dancer_orientations)):\n",
        "# # #   orientation\n",
        "# # np.diff(dancer_orientations)\n",
        "# is_consecutive = np.concatenate(([True], numerical_labels[1:] != numerical_labels[:-1]))\n",
        "# numerical_labels[is_consecutive]\n",
        "# rotation if 0,1,2,3 happens\n",
        "# # to_gif(output,fps=5)\n",
        "# # imageio.mimwrite('./animation.gif', output[:50],duration = 10)# duration=duration)\n",
        "\n",
        "# # numerical_labels = np.array([0,0,1,1,1,1,1,1,1,1,2,2,2,2,2,2,2,2,2,2,2,2,2,2,3,3,3,3,3,3,3,3,3,3,3,3,3,3,3,3,3,3,3,0,\n",
        "# #                              0,1,2,3,0,0,1,2,3,0,0,0,3,2,1,0,0,0,0])\n",
        "# # numerical_labels = np.array([0,0,1,1,1,1,1,1,1,1,2,2,2,2,2,2,2,2,2,2,2,2,2,2,3,3,3,3,3,3,3,3,3,3,3,3,3,3,3,3,3,3,3,0,1,2,3,0])\n",
        "# # numerical_labels = np.array([0, 3, 2, 1,0])\n",
        "# # numerical_labels = np.array([0,3,2,1,0,0,0,0])\n",
        "# # len(numerical_labels)\n",
        "# # numerical_labels"
      ],
      "metadata": {
        "id": "W4Or75fB0JBw"
      },
      "execution_count": null,
      "outputs": []
    }
  ]
}